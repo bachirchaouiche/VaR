{
 "cells": [
  {
   "cell_type": "code",
   "execution_count": 1,
   "metadata": {},
   "outputs": [],
   "source": [
    "import numpy as np\n",
    "import matplotlib.pyplot as plt\n",
    "import pandas as pd\n",
    "\n",
    "# load data with prices\n",
    "def load_data():\n",
    "    df = pd.read_excel('Dados para VaR em python.xlsx')\n",
    "    return df\n",
    "\n",
    "def calc_portfolio(df_prices,df_par):\n",
    "# '''\n",
    "# :param df_prices: pandas dataframe with stock prices a\n",
    "# :param df_par: pandas dataframe with parameters\n",
    "# '''        \n",
    "    df_prices = df_prices.sort_index(ascending = True)\n",
    "    df_ret = pd.DataFrame(index = df_prices.index, columns = df_prices.columns)\n",
    "    df_pl= pd.DataFrame(index = df_prices.index,columns = df_prices.columns)\n",
    "    for stock in df_prices:     \n",
    "        ret_series = df_prices[stock].pct_change()\n",
    "        profit_loss_serie = ret_series*df_par[stock].POSITION\n",
    "        df_ret[stock] = pd.DataFrame(ret_series)\n",
    "        df_pl[stock] = pd.DataFrame(profit_loss_serie)\n",
    "    return df_ret.dropna(),df_pl.dropna()    \n",
    "    \n",
    "def calculate_var(df_pl, confidence=0.01, print_result = False):\n",
    "    \n",
    "    df_pl['PORTFOLIO_VALUE'] = df_pl.sum(axis=1)\n",
    "    port_rets = df_pl['PORTFOLIO_VALUE']\n",
    "    port_rets = port_rets.sort_values(axis=0, ascending=True)\n",
    "    var =  np.percentile(port_rets, confidence)\n",
    "\n",
    "    if(print_result == True):\n",
    "        # RETURN HISTOGRAM\n",
    "        plt.figure(figsize = (10,6))\n",
    "        plt.hist(port_rets,density=True, alpha = 0.6,  histtype='bar', rwidth=0.8, facecolor=\"b\")\n",
    "        plt.xlabel('Portfolio Returns')\n",
    "        plt.ylabel('Frequency')\n",
    "        plt.title(r'Histogram of Stock Portfolio Returns', fontsize=18, fontweight='bold')\n",
    "        plt.show() \n",
    "        print (\"99.99% VaR: \" , \"R$ {0:.2f}\".format(round(var, 2)))\n",
    "        \n",
    "    return var\n"
   ]
  },
  {
   "cell_type": "code",
   "execution_count": null,
   "metadata": {},
   "outputs": [],
   "source": []
  }
 ],
 "metadata": {
  "kernelspec": {
   "display_name": "Python 3",
   "language": "python",
   "name": "python3"
  },
  "language_info": {
   "codemirror_mode": {
    "name": "ipython",
    "version": 3
   },
   "file_extension": ".py",
   "mimetype": "text/x-python",
   "name": "python",
   "nbconvert_exporter": "python",
   "pygments_lexer": "ipython3",
   "version": "3.7.3"
  }
 },
 "nbformat": 4,
 "nbformat_minor": 2
}
